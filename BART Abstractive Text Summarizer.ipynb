{
 "cells": [
  {
   "cell_type": "markdown",
   "metadata": {},
   "source": [
    "### Installing HuggingFace Transformers"
   ]
  },
  {
   "cell_type": "code",
   "execution_count": 1,
   "metadata": {},
   "outputs": [
    {
     "name": "stdout",
     "output_type": "stream",
     "text": [
      "Requirement already satisfied: transformers in /opt/conda/lib/python3.7/site-packages (3.0.2)\n",
      "Requirement already satisfied: packaging in /opt/conda/lib/python3.7/site-packages (from transformers) (20.4)\n",
      "Requirement already satisfied: regex!=2019.12.17 in /opt/conda/lib/python3.7/site-packages (from transformers) (2020.6.8)\n",
      "Requirement already satisfied: tqdm>=4.27 in /opt/conda/lib/python3.7/site-packages (from transformers) (4.47.0)\n",
      "Requirement already satisfied: sentencepiece!=0.1.92 in /opt/conda/lib/python3.7/site-packages (from transformers) (0.1.91)\n",
      "Requirement already satisfied: filelock in /opt/conda/lib/python3.7/site-packages (from transformers) (3.0.12)\n",
      "Requirement already satisfied: tokenizers==0.8.1.rc1 in /opt/conda/lib/python3.7/site-packages (from transformers) (0.8.1rc1)\n",
      "Requirement already satisfied: requests in /opt/conda/lib/python3.7/site-packages (from transformers) (2.24.0)\n",
      "Requirement already satisfied: numpy in /opt/conda/lib/python3.7/site-packages (from transformers) (1.19.0)\n",
      "Requirement already satisfied: sacremoses in /opt/conda/lib/python3.7/site-packages (from transformers) (0.0.43)\n",
      "Requirement already satisfied: six in /opt/conda/lib/python3.7/site-packages (from packaging->transformers) (1.15.0)\n",
      "Requirement already satisfied: pyparsing>=2.0.2 in /opt/conda/lib/python3.7/site-packages (from packaging->transformers) (2.4.7)\n",
      "Requirement already satisfied: idna<3,>=2.5 in /opt/conda/lib/python3.7/site-packages (from requests->transformers) (2.10)\n",
      "Requirement already satisfied: chardet<4,>=3.0.2 in /opt/conda/lib/python3.7/site-packages (from requests->transformers) (3.0.4)\n",
      "Requirement already satisfied: certifi>=2017.4.17 in /opt/conda/lib/python3.7/site-packages (from requests->transformers) (2020.6.20)\n",
      "Requirement already satisfied: urllib3!=1.25.0,!=1.25.1,<1.26,>=1.21.1 in /opt/conda/lib/python3.7/site-packages (from requests->transformers) (1.25.9)\n",
      "Requirement already satisfied: joblib in /opt/conda/lib/python3.7/site-packages (from sacremoses->transformers) (0.16.0)\n",
      "Requirement already satisfied: click in /opt/conda/lib/python3.7/site-packages (from sacremoses->transformers) (7.1.2)\n"
     ]
    }
   ],
   "source": [
    "!pip install transformers"
   ]
  },
  {
   "cell_type": "code",
   "execution_count": 2,
   "metadata": {},
   "outputs": [],
   "source": [
    "from transformers import pipeline\n"
   ]
  },
  {
   "cell_type": "markdown",
   "metadata": {},
   "source": [
    "### Loading Pre-Trained BART Model"
   ]
  },
  {
   "cell_type": "code",
   "execution_count": 3,
   "metadata": {},
   "outputs": [],
   "source": [
    "summarizer = pipeline('summarization')\n",
    "\n"
   ]
  },
  {
   "cell_type": "markdown",
   "metadata": {},
   "source": [
    "### Loading Text File to Summarize"
   ]
  },
  {
   "cell_type": "code",
   "execution_count": 4,
   "metadata": {},
   "outputs": [],
   "source": [
    "with open(\"Biology text for experiment-Copy1.txt\", encoding=\"utf-8\") as file:\n",
    "    ARTICLE = file.read()"
   ]
  },
  {
   "cell_type": "markdown",
   "metadata": {},
   "source": [
    "### Preprocessing Input Text"
   ]
  },
  {
   "cell_type": "code",
   "execution_count": 5,
   "metadata": {
    "scrolled": false
   },
   "outputs": [
    {
     "data": {
      "text/plain": [
       "['15.4 | Drugs that Affect the Autonomic System By the end of this section, you will be able to: • List the classes of pharmaceuticals that interact with the autonomic nervous system • Differentiate between cholinergic and adrenergic compounds • Differentiate between sympathomimetic and sympatholytic drugs • Relate the consequences of nicotine abuse with respect to autonomic control of the cardiovascular system An important way to understand the effects of native neurochemicals in the autonomic system is in considering the effects of pharmaceutical drugs',\n",
       " 'This can be considered in terms of how drugs change autonomic function',\n",
       " 'These effects will primarily be based on how drugs act at the receptors of the autonomic system neurochemistry',\n",
       " 'The signaling molecules of the nervous system interact with proteins in the cell membranes of various target cells',\n",
       " 'In fact, no effect can be attributed to just the signaling molecules themselves without considering the receptors',\n",
       " 'A chemical that the body produces to interact with those receptors is called an endogenous chemical, whereas a chemical introduced to the system from outside is an exogenous chemical',\n",
       " 'Exogenous chemicals may be of a natural origin, such as a plant extract, or they may be synthetically produced in a pharmaceutical laboratory',\n",
       " 'CHAPTER 15 | THE AUTONOMIC NERVOUS SYSTEM 633 Broad Autonomic Effects One important drug that affects the autonomic system broadly is not a pharmaceutical therapeutic agent associated with the system',\n",
       " 'This drug is nicotine',\n",
       " 'The effects of nicotine on the autonomic nervous system are important in considering the role smoking can play in health',\n",
       " 'All ganglionic neurons of the autonomic system, in both sympathetic and parasympathetic ganglia, are activated by ACh released from preganglionic fibers',\n",
       " 'The ACh receptors on these neurons are of the nicotinic type, meaning that they are ligand-gated ion channels',\n",
       " 'When the neurotransmitter released from the preganglionic fiber binds to the receptor protein, a channel opens to allow positive ions to cross the cell membrane',\n",
       " 'The result is depolarization of the ganglia',\n",
       " 'Nicotine acts as an ACh analog at these synapses, so when someone takes in the drug, it binds to these ACh receptors and activates the ganglionic neurons, causing them to depolarize',\n",
       " 'Ganglia of both divisions are activated equally by the drug',\n",
       " 'For many target organs in the body, this results in no net change',\n",
       " 'The competing inputs to the system cancel each other out and nothing significant happens',\n",
       " 'For example, the sympathetic system will cause sphincters in the digestive tract to contract, limiting digestive propulsion, but the parasympathetic system will cause the contraction of other muscles in the digestive tract, which will try to push the contents of the digestive system along',\n",
       " 'The end result is that the food does not really move along and the digestive system has not appreciably changed',\n",
       " 'The system in which this can be problematic is in the cardiovascular system, which is why smoking is a risk factor for cardiovascular disease',\n",
       " 'First, there is no significant parasympathetic regulation of blood pressure',\n",
       " 'Only a limited number of blood vessels are affected by parasympathetic input, so nicotine will preferentially cause the vascular tone to become more sympathetic, which means blood pressure will be increased',\n",
       " 'Second, the autonomic control of the heart is special',\n",
       " 'Unlike skeletal or smooth muscles, cardiac muscle is intrinsically active, meaning that it generates its own action potentials',\n",
       " 'The autonomic system does not cause the heart to beat, it just speeds it up (sympathetic) or slows it down (parasympathetic)',\n",
       " 'The mechanisms for this are not mutually exclusive, so the heart receives conflicting signals, and the rhythm of the heart can be affected (Figure 15.13)',\n",
       " 'Figure 15.13 Autonomic Connections to Heart and Blood Vessels The nicotinic receptor is found on all autonomic ganglia, but the cardiovascular connections are particular, and do not conform to the usual competitive projections that would just cancel each other out when stimulated by nicotine',\n",
       " 'The opposing signals to the heart would both depolarize and hyperpolarize the heart cells that establish the rhythm of the heartbeat, likely causing arrhythmia',\n",
       " 'Only the sympathetic system governs systemic blood pressure so nicotine would cause an increase',\n",
       " '634 CHAPTER 15 | THE AUTONOMIC NERVOUS SYSTEM This content is available for free at http://textbookequity.org/anatomy-and-physiology-volume-2 or at http://cnx.org/content/col11496/1.6 Sympathetic Effect The neurochemistry of the sympathetic system is based on the adrenergic system',\n",
       " 'Norepinephrine and epinephrine influence target effectors by binding to the α-adrenergic or β-adrenergic receptors',\n",
       " 'Drugs that affect the sympathetic system affect these chemical systems',\n",
       " 'The drugs can be classified by whether they enhance the functions of the sympathetic system or interrupt those functions',\n",
       " 'A drug that enhances adrenergic function is known as a sympathomimetic drug, whereas a drug that interrupts adrenergic function is a sympatholytic drug',\n",
       " 'Sympathomimetic Drugs When the sympathetic system is not functioning correctly or the body is in a state of homeostatic imbalance, these drugs act at postganglionic terminals and synapses in the sympathetic efferent pathway',\n",
       " 'These drugs either bind to particular adrenergic receptors and mimic norepinephrine at the synapses between sympathetic postganglionic fibers and their targets, or they increase the production and release of norepinephrine from postganglionic fibers',\n",
       " 'Also, to increase the effectiveness of adrenergic chemicals released from the fibers, some of these drugs may block the removal or reuptake of the neurotransmitter from the synapse',\n",
       " 'A common sympathomimetic drug is phenylephrine, which is a common component of decongestants',\n",
       " 'It can also be used to dilate the pupil and to raise blood pressure',\n",
       " 'Phenylephrine is known as an α1-adrenergic agonist, meaning that it binds to a specific adrenergic receptor, stimulating a response',\n",
       " 'In this role, phenylephrine will bind to the adrenergic receptors in bronchioles of the lungs and cause them to dilate',\n",
       " 'By opening these structures, accumulated mucus can be cleared out of the lower respiratory tract',\n",
       " 'Phenylephrine is often paired with other pharmaceuticals, such as analgesics, as in the “sinus” version of many over-the-counter drugs, such as Tylenol Sinus® or Excedrin Sinus®, or in expectorants for chest congestion such as in Robitussin CF®',\n",
       " 'A related molecule, called pseudoephedrine, was much more commonly used in these applications than was phenylephrine, until the molecule became useful in the illicit production of amphetamines',\n",
       " 'Phenylephrine is not as effective as a drug because it can be partially broken down in the digestive tract before it is ever absorbed',\n",
       " 'Like the adrenergic agents, phenylephrine is effective in dilating the pupil, known as mydriasis (Figure 15.14)',\n",
       " 'Phenylephrine is used during an eye exam in an ophthalmologist’s or optometrist’s office for this purpose',\n",
       " 'It can also be used to increase blood pressure in situations in which cardiac function is compromised, such as under anesthesia or during septic shock',\n",
       " 'Figure 15.14 Mydriasis The sympathetic system causes pupillary dilation when norepinephrine binds to an adrenergic receptor in the radial fibers of the iris smooth muscle',\n",
       " 'Phenylephrine mimics this action by binding to the same receptor when drops are applied onto the surface of the eye in a doctor’s office',\n",
       " '(credit: Corey Theiss) Other drugs that enhance adrenergic function are not associated with therapeutic uses, but affect the functions of the sympathetic system in a similar fashion',\n",
       " 'Cocaine primarily interferes with the uptake of dopamine at the synapse and can also increase adrenergic function',\n",
       " 'Caffeine is an antagonist to a different neurotransmitter receptor, called the adenosine receptor',\n",
       " 'Adenosine will suppress adrenergic activity, specifically the release of norepinephrine at synapses, so caffeine indirectly increases adrenergic activity',\n",
       " 'There is some evidence that caffeine can aid in the therapeutic use of drugs, perhaps by potentiating (increasing) sympathetic function, as is suggested by the inclusion of caffeine in over-the-counter analgesics such as Excedrin®',\n",
       " 'Sympatholytic Drugs Drugs that interfere with sympathetic function are referred to as sympatholytic, or sympathoplegic, drugs',\n",
       " 'They primarily work as an antagonist to the adrenergic receptors',\n",
       " 'They block the ability of norepinephrine or epinephrine to bind to the CHAPTER 15 | THE AUTONOMIC NERVOUS SYSTEM 635 receptors so that the effect is “cut” or “takes a blow,” to refer to the endings “-lytic” and “-plegic,” respectively',\n",
       " 'The various drugs of this class will be specific to α-adrenergic or β-adrenergic receptors, or to their receptor subtypes',\n",
       " 'Possibly the most familiar type of sympatholytic drug are the β-blockers',\n",
       " 'These drugs are often used to treat cardiovascular disease because they block the β-receptors associated with vasoconstriction and cardioacceleration',\n",
       " 'By allowing blood vessels to dilate, or keeping heart rate from increasing, these drugs can improve cardiac function in a compromised system, such as for a person with congestive heart failure or who has previously suffered a heart attack',\n",
       " 'A couple of common versions of β-blockers are metaprolol, which specifically blocks the β2-receptor, and propanolol, which nonspecifically blocks β-receptors',\n",
       " 'There are other drugs that are α-blockers and can affect the sympathetic system in a similar way',\n",
       " 'Other uses for sympatholytic drugs are as antianxiety medications',\n",
       " 'A common example of this is clonidine, which is an α-blocker',\n",
       " 'The sympathetic system is tied to anxiety to the point that the sympathetic response can be referred to as “fight, flight, or fright.” Clonidine is used for other treatments aside from hypertension and anxiety, including pain conditions and attention deficit hyperactivity disorder',\n",
       " 'Parasympathetic Effects Drugs affecting parasympathetic functions can be classified into those that increase or decrease activity at postganglionic terminals',\n",
       " 'Parasympathetic postganglionic fibers release ACh, and the receptors on the targets are muscarinic receptors',\n",
       " 'There are several types of muscarinic receptors, M1–M5, but the drugs are not usually specific to the specific types',\n",
       " 'Parasympathetic drugs can be either muscarinic agonists or antagonists, or have indirect effects on the cholinergic system',\n",
       " 'Drugs that enhance cholinergic effects are called parasympathomimetic drugs, whereas those that inhibit cholinergic effects are referred to as anticholinergic drugs',\n",
       " 'Pilocarpine is a nonspecific muscarinic agonist commonly used to treat disorders of the eye',\n",
       " 'It reverses mydriasis, such as is caused by phenylephrine, and can be administered after an eye exam',\n",
       " 'Along with constricting the pupil through the smooth muscle of the iris, pilocarpine will also cause the ciliary muscle to contract',\n",
       " 'This will open perforations at the base of the cornea, allowing for the drainage of aqueous humor from the anterior compartment of the eye and, therefore, reducing intraocular pressure related to glaucoma',\n",
       " 'Atropine and scopolamine are part of a class of muscarinic antagonists that come from the Atropa genus of plants that include belladonna or deadly nightshade (Figure 15.15)',\n",
       " 'The name of one of these plants, belladonna, refers to the fact that extracts from this plant were used cosmetically for dilating the pupil',\n",
       " 'The active chemicals from this plant block the muscarinic receptors in the iris and allow the pupil to dilate, which is considered attractive because it makes the eyes appear larger',\n",
       " 'Humans are instinctively attracted to anything with larger eyes, which comes from the fact that the ratio of eye-tohead size is different in infants (or baby animals) and can elicit an emotional response',\n",
       " 'The cosmetic use of belladonna extract was essentially acting on this response',\n",
       " 'Atropine is no longer used in this cosmetic capacity for reasons related to the other name for the plant, which is deadly nightshade',\n",
       " 'Suppression of parasympathetic function, especially when it becomes systemic, can be fatal',\n",
       " 'Autonomic regulation is disrupted and anticholinergic symptoms develop',\n",
       " 'The berries of this plant are highly toxic, but can be mistaken for other berries',\n",
       " 'The antidote for atropine or scopolamine poisoning is pilocarpine',\n",
       " 'Figure 15.15 Belladonna Plant The plant from the genus Atropa, which is known as belladonna or deadly nightshade, was used cosmetically to dilate pupils, but can be fatal when ingested',\n",
       " 'The berries on the plant may seem attractive as a fruit, but they contain the same anticholinergic compounds as the rest of the plant',\n",
       " '']"
      ]
     },
     "execution_count": 5,
     "metadata": {},
     "output_type": "execute_result"
    }
   ],
   "source": [
    "sentences = ARTICLE.replace(\"\\n\", \" \").split(\". \")\n",
    "sentences"
   ]
  },
  {
   "cell_type": "code",
   "execution_count": 6,
   "metadata": {},
   "outputs": [
    {
     "data": {
      "text/plain": [
       "90"
      ]
     },
     "execution_count": 6,
     "metadata": {},
     "output_type": "execute_result"
    }
   ],
   "source": [
    "no_of_sentences = len(sentences)\n",
    "no_of_sentences"
   ]
  },
  {
   "cell_type": "markdown",
   "metadata": {},
   "source": [
    "### Creating batches to generate Summaries"
   ]
  },
  {
   "cell_type": "code",
   "execution_count": 7,
   "metadata": {},
   "outputs": [
    {
     "data": {
      "text/plain": [
       "13"
      ]
     },
     "execution_count": 7,
     "metadata": {},
     "output_type": "execute_result"
    }
   ],
   "source": [
    "import math\n",
    "summary_for = 7\n",
    "parts = math.ceil(no_of_sentences/summary_for)\n",
    "parts"
   ]
  },
  {
   "cell_type": "code",
   "execution_count": 8,
   "metadata": {
    "scrolled": false
   },
   "outputs": [
    {
     "name": "stderr",
     "output_type": "stream",
     "text": [
      "Your max_length is set to 200, but you input_length is only 173. You might consider decreasing max_length manually, e.g. summarizer('...', max_length=50)\n"
     ]
    },
    {
     "name": "stdout",
     "output_type": "stream",
     "text": [
      "An important way to understand the effects of native neurochemicals in the autonomic system is in considering drug effects of pharmaceutical drugs. This can be considered in terms of how drugs change autonomic function. No effect can be attributed to just the signaling molecules themselves without considering the receptors. Exogenous chemicals may be of a natural origin, such as a plant extract, or they may be synthetically produced in a pharmaceutical laboratory. An exogenous chemical introduced to the system from outside is an exogenous. \n",
      "\n"
     ]
    },
    {
     "name": "stderr",
     "output_type": "stream",
     "text": [
      "Your max_length is set to 200, but you input_length is only 188. You might consider decreasing max_length manually, e.g. summarizer('...', max_length=50)\n"
     ]
    },
    {
     "name": "stdout",
     "output_type": "stream",
     "text": [
      "All ganglionic neurons of the autonomic system, in both sympathetic and parasympathetic ganglia, are activated by ACh released from preganglionic fibers. The ACh receptors on these neurons are of the nicotinic type, meaning that they are ligand-gated ion channels. The result is depolarization of the ganglia. The effects of nicotine are important in considering the role smoking can play in health. The effect of nicotine on the nervous system is important to consider. \n",
      "\n",
      "Nicotine acts as an ACh analog at these synapses, so when someone takes in the drug, it binds to these receptors and activates the ganglionic neurons, causing them to depolarize. For many target organs in the body, this results in no net change. Competing inputs to the system cancel each other out and nothing significant happens. The end result is that the food does not really move along and the digestive system has not appreciably changed. Smoking is a risk factor for cardiovascular disease. \n",
      "\n",
      "There is no significant parasympathetic regulation of blood pressure. Unlike skeletal or smooth muscles, cardiac muscle is intrinsically active, meaning that it generates its own action potentials. The autonomic system does not cause the heart to beat, it just speeds it up (sympathetic) or slows it down. The mechanisms for this are not mutually exclusive, so the heart receives conflicting signals, and the rhythm of the heart can be affected. The nicotinic receptor is found on all autonomic ganglia, but the cardiovascular connections are particular. \n",
      "\n",
      "Only the sympathetic system governs systemic blood pressure so nicotine would cause an increase. The opposing signals to the heart would both depolarize and hyperpolarize the heart cells that establish the rhythm of the heartbeat, likely causing arrhythmia. Norepinephrine and epinephrine influence target effectors by binding to the α-adrenergic or β-adrene receptors. The neurochemistry of the sympathetic. system is based on the adrenergic system. A drug that enhances adrenergic function is known as a sympathomimetic drug. \n",
      "\n",
      "Sympathomimetic drugs act at postganglionic terminals and synapses in the sympathetic efferent pathway. A common sympathomimetic drug is phenylephrine, which is a common component of decongestants. Phenylephrine is known as an α1-adrenergic agonist, meaning that it binds to a specific adrenergic receptor, stimulating a response. It can also be used to dilate the pupil and to raise blood pressure in the lungs of patients. \n",
      "\n",
      "Phenylephrine is effective in dilating the pupil, known as mydriasis. It can also be used to increase blood pressure in situations in which cardiac function is compromised, such as under anesthesia or during septic shock. It is not as effective as a drug because it can be partially broken down in the digestive tract before it is ever absorbed. Like the adrenergic agents, phenylephrine can be used during an eye exam in an ophthalmologist's or optometrist’s office. \n",
      "\n",
      "Cocaine interferes with the uptake of dopamine at the synapse and can also increase adrenergic function. Caffeine is an antagonist to a different neurotransmitter receptor, called the adenosine receptor. Adenosine will suppress adrenergic activity, specifically the release of norepinephrine at synapses. There is some evidence that caffeine can aid in the therapeutic use of drugs, perhaps by potentiating (increasing) sympathetic function, as suggested by the inclusion of caffeine in over-the-counter analgesics such as Excedrin®. \n",
      "\n",
      "Drugs that interfere with sympathetic function are called sympatholytic, or sympathoplegic. Sympatholytic drugs work as an antagonist to adrenergic receptors. They block the ability of norepinephrine or epinephrine to bind to the CHAPTER 15 | THE AUTONOMIC NERVOUS SYSTEM 635 receptors. These drugs are often used to treat cardiovascular disease because they block the β-receptors associated with vasoconstriction. By allowing blood vessels to dilate, or keeping heart rate from increasing, these drugs can improve cardiac function. \n",
      "\n",
      "The sympathetic system is tied to anxiety to the point that the sympathetic response can be referred to as “fight, flight, or fright” Drugs affecting parasympathetic functions can be classified into those that increase or decrease activity at postganglionic terminals. Other uses for sympatholytic drugs are as antianxiety medications. Clonidine is used for other treatments aside from hypertension and anxiety, including pain conditions and attention deficit hyperactivity disorder, such as pain conditions or ADHD. \n",
      "\n",
      "Pilocarpine is a nonspecific muscarinic agonist commonly used to treat disorders of the eye. It reverses mydriasis, such as is caused by phenylephrine, and can be administered after an eye exam. Drugs that enhance cholinergic effects are called parasympathomimetic drugs, whereas those that inhibit cholinerg effects are referred to as anticholinergic drugs. The drugs are not usually specific to the specific types of receptors, M1–M5. \n",
      "\n"
     ]
    },
    {
     "name": "stderr",
     "output_type": "stream",
     "text": [
      "Your max_length is set to 200, but you input_length is only 126. You might consider decreasing max_length manually, e.g. summarizer('...', max_length=50)\n"
     ]
    },
    {
     "name": "stdout",
     "output_type": "stream",
     "text": [
      "Atropine and scopolamine are part of a class of muscarinic antagonists that come from the Atropa genus of plants that include belladonna or deadly nightshade. Belladonna extract was used cosmetically for dilating the pupil, which is considered attractive because it makes the eyes appear larger. The active chemicals from this plant block the muscaric receptors in the iris and allow the pupil to dilate, which can elicit an emotional response. Suppression of parasympathetic function, especially when it becomes systemic, can be fatal. \n",
      "\n",
      "The berries of this plant are highly toxic, but can be mistaken for other berries. The antidote for atropine or scopolamine poisoning is pilocarpine. Belladonna berries contain the same anticholinergic compounds as the rest of the plant. Atropa, which is known as belladonna or deadly nightshade, was used cosmetically to dilate pupils, but it can be fatal when ingested by ingesting the berries of the poisonous plant. Autonomic regulation is disrupted and anticholergic symptoms develop. \n",
      "\n",
      "CPU times: user 4min 13s, sys: 862 ms, total: 4min 14s\n",
      "Wall time: 1min 7s\n"
     ]
    }
   ],
   "source": [
    "%%time\n",
    "with open(\"Quick Summary\", \"a\", encoding='utf-8', errors=\"ignore\") as file:\n",
    "    \n",
    "    for i in range(parts):\n",
    "        try:\n",
    "            batches = \". \".join(sentences[i*summary_for:(i+1)*summary_for])\n",
    "        except:\n",
    "            batches = \". \".join(sentences[i*summary_for:])\n",
    "\n",
    "\n",
    "        summary = summarizer(batches, max_length=200, min_length=100)\n",
    "        summary = summary[0]['summary_text'].split(\" .\")\n",
    "        for i in range(len(summary)):\n",
    "            try:\n",
    "                summary[i] = summary[i][1:]\n",
    "                summary[i][0].upper()\n",
    "            except:\n",
    "                pass\n",
    "\n",
    "        summary = \". \".join(summary)\n",
    "        print(summary)\n",
    "        print()\n",
    "        file.write(summary + \"\\n\\n\")"
   ]
  },
  {
   "cell_type": "code",
   "execution_count": null,
   "metadata": {},
   "outputs": [],
   "source": []
  },
  {
   "cell_type": "code",
   "execution_count": 9,
   "metadata": {},
   "outputs": [
    {
     "data": {
      "text/plain": [
       "1929"
      ]
     },
     "execution_count": 9,
     "metadata": {},
     "output_type": "execute_result"
    }
   ],
   "source": [
    "# To find the total number of words in the input file\n",
    "text_words = len(ARTICLE.split())\n",
    "text_words"
   ]
  },
  {
   "cell_type": "code",
   "execution_count": 13,
   "metadata": {},
   "outputs": [],
   "source": [
    "# To find the total number of words in the summary file\n",
    "with open('Quick Summary', errors='ignore') as file:\n",
    "    summary_word = file.read()\n",
    "    "
   ]
  },
  {
   "cell_type": "code",
   "execution_count": 14,
   "metadata": {},
   "outputs": [
    {
     "data": {
      "text/plain": [
       "989"
      ]
     },
     "execution_count": 14,
     "metadata": {},
     "output_type": "execute_result"
    }
   ],
   "source": [
    "summary_word = len(summary_word.split())\n",
    "summary_word"
   ]
  },
  {
   "cell_type": "code",
   "execution_count": 16,
   "metadata": {},
   "outputs": [
    {
     "data": {
      "text/plain": [
       "51.27008812856402"
      ]
     },
     "execution_count": 16,
     "metadata": {},
     "output_type": "execute_result"
    }
   ],
   "source": [
    "# To find the percentage of words present in summary file compared to input file\n",
    "summary_word/text_words * 100"
   ]
  },
  {
   "cell_type": "code",
   "execution_count": null,
   "metadata": {},
   "outputs": [],
   "source": []
  }
 ],
 "metadata": {
  "kernelspec": {
   "display_name": "Python 3",
   "language": "python",
   "name": "python3"
  },
  "language_info": {
   "codemirror_mode": {
    "name": "ipython",
    "version": 3
   },
   "file_extension": ".py",
   "mimetype": "text/x-python",
   "name": "python",
   "nbconvert_exporter": "python",
   "pygments_lexer": "ipython3",
   "version": "3.7.6"
  }
 },
 "nbformat": 4,
 "nbformat_minor": 4
}
